{
 "cells": [
  {
   "cell_type": "code",
   "execution_count": 32,
   "metadata": {},
   "outputs": [],
   "source": [
    "import pyspark\n",
    "from pyspark.sql import SparkSession\n",
    "from pyspark.sql.functions import col, when, unix_timestamp, hour, to_date\n",
    "import logging\n",
    "from io import StringIO, BytesIO\n",
    "from minio import Minio\n",
    "from minio.error import S3Error\n",
    "import datetime"
   ]
  },
  {
   "cell_type": "code",
   "execution_count": null,
   "metadata": {},
   "outputs": [
    {
     "name": "stdout",
     "output_type": "stream",
     "text": [
      "Spark Running\n"
     ]
    }
   ],
   "source": [
    "\n",
    "HIVE_URI = 'thrift://hive-metastore:9083'\n",
    "MINIO_ACCESS_KEY = 'FrmF5fXO0bxpBepjVUSX'\n",
    "MINIO_SECRET_KEY = '5RgPTIToiUPa16HAWnRv3KcsE7y21Oo3RPA3QXTb'\n",
    "MINIO_ENDPOINT = \"minio:9000\"\n",
    "MINIO_BUCKET = \"logs\"\n",
    "\n",
    "\n",
    "spark = SparkSession.builder \\\n",
    "    .appName(\"IcebergAsDefaultCatalog\") \\\n",
    "    .config('spark.jars.packages', \n",
    "            'org.apache.spark:spark-sql-kafka-0-10_2.12:3.3.0,'\n",
    "            'org.apache.iceberg:iceberg-spark-runtime-3.3_2.12:1.3.1,'\n",
    "            'software.amazon.awssdk:bundle:2.17.178,'\n",
    "            'software.amazon.awssdk:url-connection-client:2.17.178') \\\n",
    "    .config('spark.sql.extensions', 'org.apache.iceberg.spark.extensions.IcebergSparkSessionExtensions') \\\n",
    "    .config(\"spark.sql.catalog.spark_catalog\", \"org.apache.iceberg.spark.SparkCatalog\") \\\n",
    "    .config(\"spark.sql.catalog.spark_catalog.type\", \"hive\") \\\n",
    "    .config(\"spark.sql.catalog.spark_catalog.uri\", \"thrift://hive-metastore:9083\") \\\n",
    "    .config(\"spark.sql.catalog.spark_catalog.warehouse\", \"s3a://warehouse/\") \\\n",
    "    .config(\"spark.hadoop.fs.s3a.endpoint\", \"http://minio:9000\") \\\n",
    "    .config(\"spark.hadoop.fs.s3a.access.key\", MINIO_ACCESS_KEY) \\\n",
    "    .config(\"spark.hadoop.fs.s3a.secret.key\", MINIO_SECRET_KEY) \\\n",
    "    .config(\"spark.hadoop.fs.s3a.path.style.access\", \"true\") \\\n",
    "    .config(\"spark.hadoop.fs.s3a.impl\", \"org.apache.hadoop.fs.s3a.S3AFileSystem\") \\\n",
    "    .config(\"spark.hadoop.hive.metastore.sasl.enabled\", \"false\") \\\n",
    "    .getOrCreate()\n",
    "\n",
    "## Start Spark Session\n",
    "print(\"Spark Running\")\n"
   ]
  },
  {
   "cell_type": "code",
   "execution_count": 34,
   "metadata": {},
   "outputs": [],
   "source": [
    "# In-memory log buffer\n",
    "log_buffer = StringIO()\n",
    "\n",
    "# Configure logger\n",
    "log_handler = logging.StreamHandler(log_buffer)\n",
    "log_handler.setFormatter(logging.Formatter('%(asctime)s %(levelname)s: %(message)s'))\n",
    "\n",
    "logger = logging.getLogger(\"BronzeLoader\")\n",
    "logger.setLevel(logging.INFO)\n",
    "logger.addHandler(log_handler)\n",
    "logger.addHandler(logging.StreamHandler())  # Optional: Also log to stdout"
   ]
  },
  {
   "cell_type": "code",
   "execution_count": 35,
   "metadata": {},
   "outputs": [],
   "source": [
    "# Upload logs from buffer to MinIO\n",
    "def flush_logs_to_minio(object_name):\n",
    "    try:\n",
    "        client = Minio(\n",
    "            MINIO_ENDPOINT,\n",
    "            access_key=MINIO_ACCESS_KEY,\n",
    "            secret_key=MINIO_SECRET_KEY,\n",
    "            secure=False  # Set to True if using HTTPS\n",
    "        )\n",
    "        if not client.bucket_exists(MINIO_BUCKET):\n",
    "            client.make_bucket(MINIO_BUCKET)\n",
    "\n",
    "        content = log_buffer.getvalue().encode(\"utf-8\")\n",
    "        client.put_object(\n",
    "            MINIO_BUCKET,\n",
    "            object_name,\n",
    "            data=BytesIO(content),\n",
    "            length=len(content),\n",
    "            content_type='text/plain'\n",
    "        )\n",
    "        logger.info(f\"Uploaded log to MinIO at {MINIO_BUCKET}/{object_name}\")\n",
    "        \n",
    "        # Clear the buffer after upload\n",
    "        log_buffer.truncate(0)\n",
    "        log_buffer.seek(0)\n",
    "        \n",
    "    except S3Error as e:\n",
    "        logger.error(f\"Failed to upload log: {e}\")"
   ]
  },
  {
   "cell_type": "code",
   "execution_count": null,
   "metadata": {},
   "outputs": [],
   "source": [
    "def load_bronze(file_name, table_name):\n",
    "    try:\n",
    "        start_time = datetime.datetime.now()\n",
    "        logger.info(f\"Starting load for file: {file_name} into table: {table_name}\")\n",
    "        logger.info(f\"Starting load for file: {file_name}\")\n",
    "        df = spark.read.format(\"csv\") \\\n",
    "            .option(\"header\", \"true\") \\\n",
    "            .option(\"inferSchema\", \"true\") \\\n",
    "            .load(f\"s3a://test/bronze.{file_name}\")\n",
    "        \n",
    "        logger.info(f\"Loaded {df.count()} records from {file_name}\")\n",
    "        \n",
    "        df.write.format(\"iceberg\") \\\n",
    "            .mode(\"overwrite\") \\\n",
    "            .insertInto(f\"spark_catalog.bronze.{table_name}\")\n",
    "        \n",
    "        logger.info(f\"Data written to iceberg table: {table_name}\")\n",
    "        end_time = datetime.datetime.now()\n",
    "        elapsed_time = str(end_time - start_time)\n",
    "        logger.info(f\"Load completed for file: {file_name} into table: {table_name} in {elapsed_time} seconds\")\n",
    "\n",
    "\n",
    "    except Exception as e:\n",
    "        logger.error(f\"Failed to load file {file_name}: {e}\")\n",
    "        raise ValueError\n",
    "    \n",
    "    finally:\n",
    "        flush_logs_to_minio(f\"bronze_logs/{file_name}.log\")"
   ]
  },
  {
   "cell_type": "code",
   "execution_count": 38,
   "metadata": {},
   "outputs": [
    {
     "name": "stderr",
     "output_type": "stream",
     "text": [
      "Starting load for file: crm_cust_info.csv\n",
      "Loaded 18493 records from crm_cust_info.csv\n",
      "Data written to iceberg table: crm_cust_info\n",
      "Uploaded log to MinIO at logs/bronze_logs/crm_cust_info.csv.log\n",
      "Starting load for file: crm_prd_info.csv\n",
      "Loaded 397 records from crm_prd_info.csv\n",
      "Data written to iceberg table: crm_prd_info\n",
      "Uploaded log to MinIO at logs/bronze_logs/crm_prd_info.csv.log\n",
      "Starting load for file: crm_sales_details.csv\n",
      "Loaded 60398 records from crm_sales_details.csv\n",
      "Data written to iceberg table: crm_sales_details\n",
      "Uploaded log to MinIO at logs/bronze_logs/crm_sales_details.csv.log\n",
      "Starting load for file: erp_cust_az12.csv\n",
      "Loaded 18483 records from erp_cust_az12.csv\n",
      "Data written to iceberg table: erp_cust_az12\n",
      "Uploaded log to MinIO at logs/bronze_logs/erp_cust_az12.csv.log\n",
      "Starting load for file: erp_loc_a101.csv\n",
      "Loaded 18484 records from erp_loc_a101.csv\n",
      "Data written to iceberg table: erp_loc_a101\n",
      "Uploaded log to MinIO at logs/bronze_logs/erp_loc_a101.csv.log\n",
      "Starting load for file: erp_px_cat_g1v2.csv\n",
      "Loaded 37 records from erp_px_cat_g1v2.csv\n",
      "Data written to iceberg table: erp_px_cat_g1v2\n",
      "Uploaded log to MinIO at logs/bronze_logs/erp_px_cat_g1v2.csv.log\n"
     ]
    },
    {
     "name": "stdout",
     "output_type": "stream",
     "text": [
      "Data loaded into Iceberg tables successfully.\n"
     ]
    }
   ],
   "source": [
    "# List of files and corresponding table names\n",
    "files_to_load = [\n",
    "    (\"crm_cust_info.csv\", \"crm_cust_info\"),\n",
    "    (\"crm_prd_info.csv\", \"crm_prd_info\"),\n",
    "    (\"crm_sales_details.csv\", \"crm_sales_details\"),\n",
    "    (\"erp_cust_az12.csv\", \"erp_cust_az12\"),\n",
    "    (\"erp_loc_a101.csv\", \"erp_loc_a101\"),\n",
    "    (\"erp_px_cat_g1v2.csv\", \"erp_px_cat_g1v2\")\n",
    "]\n",
    "\n",
    "# Load each file into the corresponding Iceberg table\n",
    "for file_name, table_name in files_to_load:\n",
    "    load_bronze(file_name, table_name)\n",
    "\n",
    "# Stop the Spark session\n",
    "spark.stop()\n",
    "\n",
    "print(\"Data loaded into Iceberg tables successfully.\")\n",
    "# Note: The above code assumes that the Iceberg tables and the S3 bucket structure already exist."
   ]
  }
 ],
 "metadata": {
  "kernelspec": {
   "display_name": "Python 3 (ipykernel)",
   "language": "python",
   "name": "python3"
  }
 },
 "nbformat": 4,
 "nbformat_minor": 2
}

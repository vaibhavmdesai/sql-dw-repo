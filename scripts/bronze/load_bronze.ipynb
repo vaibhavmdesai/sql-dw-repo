{
 "cells": [
  {
   "cell_type": "code",
   "execution_count": null,
   "metadata": {},
   "outputs": [],
   "source": [
    "import pyspark\n",
    "from pyspark.sql import SparkSession\n",
    "from pyspark.sql.functions import col, when, unix_timestamp, hour, to_date"
   ]
  },
  {
   "cell_type": "code",
   "execution_count": null,
   "metadata": {},
   "outputs": [],
   "source": [
    "\n",
    "HIVE_URI = 'thrift://hive-metastore:9083'\n",
    "MINIO_ACCESS_KEY = 'FrmF5fXO0bxpBepjVUSX'\n",
    "MINIO_SECRET_KEY = '5RgPTIToiUPa16HAWnRv3KcsE7y21Oo3RPA3QXTb'\n",
    "\n",
    "spark = SparkSession.builder \\\n",
    "    .appName(\"IcebergAsDefaultCatalog\") \\\n",
    "    .config('spark.jars.packages', \n",
    "            'org.apache.spark:spark-sql-kafka-0-10_2.12:3.3.0,'\n",
    "            'org.apache.iceberg:iceberg-spark-runtime-3.3_2.12:1.3.1,'\n",
    "            'software.amazon.awssdk:bundle:2.17.178,'\n",
    "            'software.amazon.awssdk:url-connection-client:2.17.178') \\\n",
    "    .config('spark.sql.extensions', 'org.apache.iceberg.spark.extensions.IcebergSparkSessionExtensions') \\\n",
    "    .config(\"spark.sql.catalog.spark_catalog\", \"org.apache.iceberg.spark.SparkCatalog\") \\\n",
    "    .config(\"spark.sql.catalog.spark_catalog.type\", \"hive\") \\\n",
    "    .config(\"spark.sql.catalog.spark_catalog.uri\", \"thrift://hive-metastore:9083\") \\\n",
    "    .config(\"spark.sql.catalog.spark_catalog.warehouse\", \"s3a://warehouse/\") \\\n",
    "    .config(\"spark.hadoop.fs.s3a.endpoint\", \"http://minio:9000\") \\\n",
    "    .config(\"spark.hadoop.fs.s3a.access.key\", MINIO_ACCESS_KEY) \\\n",
    "    .config(\"spark.hadoop.fs.s3a.secret.key\", MINIO_SECRET_KEY) \\\n",
    "    .config(\"spark.hadoop.fs.s3a.path.style.access\", \"true\") \\\n",
    "    .config(\"spark.hadoop.fs.s3a.impl\", \"org.apache.hadoop.fs.s3a.S3AFileSystem\") \\\n",
    "    .config(\"spark.hadoop.hive.metastore.sasl.enabled\", \"false\") \\\n",
    "    .getOrCreate()\n",
    "\n",
    "\n",
    "\n",
    "## Start Spark Session\n",
    "print(\"Spark Running\")\n"
   ]
  },
  {
   "cell_type": "code",
   "execution_count": 25,
   "metadata": {},
   "outputs": [],
   "source": [
    "def load_bronze(file_name, table_name):\n",
    "    \"\"\"\n",
    "    Load a CSV file into an Iceberg table in the bronze catalog.\n",
    "    :param file_name: Name of the CSV file to load.\n",
    "    :param table_name: Name of the Iceberg table to insert into.\n",
    "    \"\"\"\n",
    "\n",
    "    df = spark.read.format(\"csv\") \\\n",
    "        .option(\"header\", \"true\") \\\n",
    "        .option(\"inferSchema\", \"true\") \\\n",
    "        .load(f\"s3a://test/bronze.{file_name}\")\n",
    "\n",
    "    df.write.format(\"iceberg\") \\\n",
    "        .mode(\"overwrite\") \\\n",
    "        .insertInto(f\"spark_catalog.bronze.{table_name}\")"
   ]
  },
  {
   "cell_type": "code",
   "execution_count": 26,
   "metadata": {},
   "outputs": [
    {
     "name": "stdout",
     "output_type": "stream",
     "text": [
      "Data loaded into Iceberg tables successfully.\n"
     ]
    }
   ],
   "source": [
    "# List of files and corresponding table names\n",
    "files_to_load = [\n",
    "    (\"crm_cust_info.csv\", \"crm_cust_info\"),\n",
    "    (\"crm_prd_info.csv\", \"crm_prd_info\"),\n",
    "    (\"crm_sales_details.csv\", \"crm_sales_details\"),\n",
    "    (\"erp_cust_az12.csv\", \"erp_cust_az12\"),\n",
    "    (\"erp_loc_a101.csv\", \"erp_loc_a101\"),\n",
    "    (\"erp_px_cat_g1v2.csv\", \"erp_px_cat_g1v2\")\n",
    "]\n",
    "\n",
    "# Load each file into the corresponding Iceberg table\n",
    "for file_name, table_name in files_to_load:\n",
    "    load_bronze(file_name, table_name)\n",
    "\n",
    "# Stop the Spark session\n",
    "spark.stop()\n",
    "print(\"Data loaded into Iceberg tables successfully.\")\n",
    "# Note: The above code assumes that the Iceberg tables and the S3 bucket structure already exist."
   ]
  }
 ],
 "metadata": {
  "kernelspec": {
   "display_name": "Python 3 (ipykernel)",
   "language": "python",
   "name": "python3"
  },
  "language_info": {
   "codemirror_mode": {
    "name": "ipython",
    "version": 3
   },
   "file_extension": ".py",
   "mimetype": "text/x-python",
   "name": "python",
   "nbconvert_exporter": "python",
   "pygments_lexer": "ipython3",
   "version": "3.8.13"
  }
 },
 "nbformat": 4,
 "nbformat_minor": 2
}

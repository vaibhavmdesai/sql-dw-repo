{
 "cells": [
  {
   "cell_type": "code",
   "execution_count": null,
   "metadata": {
    "vscode": {
     "languageId": "plaintext"
    }
   },
   "outputs": [],
   "source": [
    "import pyspark\n",
    "from pyspark.sql import SparkSession\n",
    "from pyspark.sql.functions import col, when, unix_timestamp, hour, to_date, row_number, trim\n",
    "import logging\n",
    "from io import StringIO, BytesIO\n",
    "from minio import Minio\n",
    "from minio.error import S3Error\n",
    "import datetime\n",
    "from pyspark.sql.window import Window"
   ]
  },
  {
   "cell_type": "code",
   "execution_count": null,
   "metadata": {
    "vscode": {
     "languageId": "plaintext"
    }
   },
   "outputs": [],
   "source": [
    "\n",
    "HIVE_URI = 'thrift://hive-metastore:9083'\n",
    "MINIO_ACCESS_KEY = 'FrmF5fXO0bxpBepjVUSX'\n",
    "MINIO_SECRET_KEY = '5RgPTIToiUPa16HAWnRv3KcsE7y21Oo3RPA3QXTb'\n",
    "MINIO_ENDPOINT = \"minio:9000\"\n",
    "MINIO_BUCKET = \"logs\"\n",
    "\n",
    "\n",
    "spark = SparkSession.builder \\\n",
    "    .appName(\"IcebergAsDefaultCatalog\") \\\n",
    "    .config('spark.jars.packages', \n",
    "            'org.apache.spark:spark-sql-kafka-0-10_2.12:3.3.0,'\n",
    "            'org.apache.iceberg:iceberg-spark-runtime-3.3_2.12:1.3.1,'\n",
    "            'software.amazon.awssdk:bundle:2.17.178,'\n",
    "            'software.amazon.awssdk:url-connection-client:2.17.178') \\\n",
    "    .config('spark.sql.extensions', 'org.apache.iceberg.spark.extensions.IcebergSparkSessionExtensions') \\\n",
    "    .config(\"spark.sql.catalog.spark_catalog\", \"org.apache.iceberg.spark.SparkCatalog\") \\\n",
    "    .config(\"spark.sql.catalog.spark_catalog.type\", \"hive\") \\\n",
    "    .config(\"spark.sql.catalog.spark_catalog.uri\", \"thrift://hive-metastore:9083\") \\\n",
    "    .config(\"spark.sql.catalog.spark_catalog.warehouse\", \"s3a://warehouse/\") \\\n",
    "    .config(\"spark.hadoop.fs.s3a.endpoint\", \"http://minio:9000\") \\\n",
    "    .config(\"spark.hadoop.fs.s3a.access.key\", MINIO_ACCESS_KEY) \\\n",
    "    .config(\"spark.hadoop.fs.s3a.secret.key\", MINIO_SECRET_KEY) \\\n",
    "    .config(\"spark.hadoop.fs.s3a.path.style.access\", \"true\") \\\n",
    "    .config(\"spark.hadoop.fs.s3a.impl\", \"org.apache.hadoop.fs.s3a.S3AFileSystem\") \\\n",
    "    .config(\"spark.hadoop.hive.metastore.sasl.enabled\", \"false\") \\\n",
    "    .getOrCreate()\n",
    "\n",
    "## Start Spark Session\n",
    "print(\"Spark Running\")\n"
   ]
  },
  {
   "cell_type": "code",
   "execution_count": null,
   "metadata": {
    "vscode": {
     "languageId": "plaintext"
    }
   },
   "outputs": [],
   "source": [
    "spark.conf.set(\"spark.sql.iceberg.handle-timestamp-without-timezone\", \"true\")"
   ]
  },
  {
   "cell_type": "code",
   "execution_count": null,
   "metadata": {
    "vscode": {
     "languageId": "plaintext"
    }
   },
   "outputs": [],
   "source": [
    "# In-memory log buffer\n",
    "log_buffer = StringIO()\n",
    "\n",
    "# Configure logger\n",
    "log_handler = logging.StreamHandler(log_buffer)\n",
    "log_handler.setFormatter(logging.Formatter('%(asctime)s %(levelname)s: %(message)s'))\n",
    "\n",
    "logger = logging.getLogger(\"SilverLoader\")\n",
    "logger.setLevel(logging.INFO)\n",
    "logger.addHandler(log_handler)\n",
    "logger.addHandler(logging.StreamHandler())  # Optional: Also log to stdout"
   ]
  },
  {
   "cell_type": "code",
   "execution_count": null,
   "metadata": {
    "vscode": {
     "languageId": "plaintext"
    }
   },
   "outputs": [],
   "source": [
    "# Upload logs from buffer to MinIO\n",
    "def flush_logs_to_minio(object_name):\n",
    "    try:\n",
    "        client = Minio(\n",
    "            MINIO_ENDPOINT,\n",
    "            access_key=MINIO_ACCESS_KEY,\n",
    "            secret_key=MINIO_SECRET_KEY,\n",
    "            secure=False  # Set to True if using HTTPS\n",
    "        )\n",
    "        if not client.bucket_exists(MINIO_BUCKET):\n",
    "            client.make_bucket(MINIO_BUCKET)\n",
    "\n",
    "        content = log_buffer.getvalue().encode(\"utf-8\")\n",
    "        client.put_object(\n",
    "            MINIO_BUCKET,\n",
    "            object_name,\n",
    "            data=BytesIO(content),\n",
    "            length=len(content),\n",
    "            content_type='text/plain'\n",
    "        )\n",
    "        logger.info(f\"Uploaded log to MinIO at {MINIO_BUCKET}/{object_name}\")\n",
    "        \n",
    "        # Clear the buffer after upload\n",
    "        log_buffer.truncate(0)\n",
    "        log_buffer.seek(0)\n",
    "        \n",
    "    except S3Error as e:\n",
    "        logger.error(f\"Failed to upload log: {e}\")"
   ]
  }
 ],
 "metadata": {
  "language_info": {
   "name": "python"
  }
 },
 "nbformat": 4,
 "nbformat_minor": 2
}

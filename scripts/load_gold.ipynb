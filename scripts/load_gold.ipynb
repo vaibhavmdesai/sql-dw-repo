{
 "cells": [
  {
   "cell_type": "code",
   "execution_count": null,
   "metadata": {},
   "outputs": [],
   "source": [
    "import pyspark\n",
    "from pyspark.sql import SparkSession\n",
    "from pyspark.sql.functions import col, when, unix_timestamp, hour, to_date, row_number, trim\n",
    "import logging\n",
    "from io import StringIO, BytesIO\n",
    "from minio import Minio\n",
    "from minio.error import S3Error\n",
    "import datetime\n",
    "from pyspark.sql.window import Window"
   ]
  },
  {
   "cell_type": "code",
   "execution_count": null,
   "metadata": {},
   "outputs": [],
   "source": [
    "\n",
    "HIVE_URI = 'thrift://hive-metastore:9083'\n",
    "MINIO_ACCESS_KEY = 'FrmF5fXO0bxpBepjVUSX'\n",
    "MINIO_SECRET_KEY = '5RgPTIToiUPa16HAWnRv3KcsE7y21Oo3RPA3QXTb'\n",
    "MINIO_ENDPOINT = \"minio:9000\"\n",
    "MINIO_BUCKET = \"logs\"\n",
    "\n",
    "\n",
    "spark = SparkSession.builder \\\n",
    "    .appName(\"IcebergAsDefaultCatalog\") \\\n",
    "    .config('spark.jars.packages', \n",
    "            'org.apache.spark:spark-sql-kafka-0-10_2.12:3.3.0,'\n",
    "            'org.apache.iceberg:iceberg-spark-runtime-3.3_2.12:1.3.1,'\n",
    "            'software.amazon.awssdk:bundle:2.17.178,'\n",
    "            'software.amazon.awssdk:url-connection-client:2.17.178') \\\n",
    "    .config('spark.sql.extensions', 'org.apache.iceberg.spark.extensions.IcebergSparkSessionExtensions') \\\n",
    "    .config(\"spark.sql.catalog.spark_catalog\", \"org.apache.iceberg.spark.SparkCatalog\") \\\n",
    "    .config(\"spark.sql.catalog.spark_catalog.type\", \"hive\") \\\n",
    "    .config(\"spark.sql.catalog.spark_catalog.uri\", \"thrift://hive-metastore:9083\") \\\n",
    "    .config(\"spark.sql.catalog.spark_catalog.warehouse\", \"s3a://warehouse/\") \\\n",
    "    .config(\"spark.hadoop.fs.s3a.endpoint\", \"http://minio:9000\") \\\n",
    "    .config(\"spark.hadoop.fs.s3a.access.key\", MINIO_ACCESS_KEY) \\\n",
    "    .config(\"spark.hadoop.fs.s3a.secret.key\", MINIO_SECRET_KEY) \\\n",
    "    .config(\"spark.hadoop.fs.s3a.path.style.access\", \"true\") \\\n",
    "    .config(\"spark.hadoop.fs.s3a.impl\", \"org.apache.hadoop.fs.s3a.S3AFileSystem\") \\\n",
    "    .config(\"spark.hadoop.hive.metastore.sasl.enabled\", \"false\") \\\n",
    "    .getOrCreate()\n",
    "\n",
    "## Start Spark Session\n",
    "print(\"Spark Running\")\n"
   ]
  },
  {
   "cell_type": "code",
   "execution_count": null,
   "metadata": {},
   "outputs": [],
   "source": [
    "spark.conf.set(\"spark.sql.iceberg.handle-timestamp-without-timezone\", \"true\")"
   ]
  },
  {
   "cell_type": "code",
   "execution_count": null,
   "metadata": {},
   "outputs": [],
   "source": [
    "# In-memory log buffer\n",
    "log_buffer = StringIO()\n",
    "\n",
    "# Configure logger\n",
    "log_handler = logging.StreamHandler(log_buffer)\n",
    "log_handler.setFormatter(logging.Formatter('%(asctime)s %(levelname)s: %(message)s'))\n",
    "\n",
    "logger = logging.getLogger(\"SilverLoader\")\n",
    "logger.setLevel(logging.INFO)\n",
    "logger.addHandler(log_handler)\n",
    "logger.addHandler(logging.StreamHandler())  # Optional: Also log to stdout"
   ]
  },
  {
   "cell_type": "code",
   "execution_count": null,
   "metadata": {},
   "outputs": [],
   "source": [
    "# Upload logs from buffer to MinIO\n",
    "def flush_logs_to_minio(object_name):\n",
    "    try:\n",
    "        client = Minio(\n",
    "            MINIO_ENDPOINT,\n",
    "            access_key=MINIO_ACCESS_KEY,\n",
    "            secret_key=MINIO_SECRET_KEY,\n",
    "            secure=False  # Set to True if using HTTPS\n",
    "        )\n",
    "        if not client.bucket_exists(MINIO_BUCKET):\n",
    "            client.make_bucket(MINIO_BUCKET)\n",
    "\n",
    "        content = log_buffer.getvalue().encode(\"utf-8\")\n",
    "        client.put_object(\n",
    "            MINIO_BUCKET,\n",
    "            object_name,\n",
    "            data=BytesIO(content),\n",
    "            length=len(content),\n",
    "            content_type='text/plain'\n",
    "        )\n",
    "        logger.info(f\"Uploaded log to MinIO at {MINIO_BUCKET}/{object_name}\")\n",
    "        \n",
    "        # Clear the buffer after upload\n",
    "        log_buffer.truncate(0)\n",
    "        log_buffer.seek(0)\n",
    "        \n",
    "    except S3Error as e:\n",
    "        logger.error(f\"Failed to upload log: {e}\")"
   ]
  },
  {
   "cell_type": "code",
   "execution_count": 18,
   "metadata": {},
   "outputs": [],
   "source": [
    "def load_gold_customers():\n",
    "    \n",
    "    try:\n",
    "        crm_cust_df = spark.table(\"spark_catalog.silver.crm_cust_info\")\n",
    "        crm_cust_df.createOrReplaceTempView(\"silver_crm_cust_info\")\n",
    "\n",
    "        erp_cust_df = spark.table(\"spark_catalog.silver.erp_cust_az12\")\n",
    "        erp_cust_df.createOrReplaceTempView(\"silver_erp_cust_info\")\n",
    "\n",
    "        erp_cust_loc_df = spark.table(\"spark_catalog.silver.erp_loc_a101\")\n",
    "        erp_cust_loc_df.createOrReplaceTempView(\"silver_erp_cust_loc\")\n",
    "\n",
    "\n",
    "        gold_customer = spark.sql(\"\"\"\n",
    "                                  SELECT\n",
    "                                  ROW_NUMBER() OVER (ORDER BY ci.cst_id) AS customer_key,\n",
    "                                  ci.cst_id AS customer_id,\n",
    "                                  ci.cst_key AS customer_number,\n",
    "                                  ci.cst_firstname AS first_name,\n",
    "                                  ci.cst_lastname AS last_name,\n",
    "                                  la.cntry AS country,\n",
    "                                  ci.cst_marital_status AS marital_status,\n",
    "                                  CASE \n",
    "                                    WHEN ci.cst_gndr = 'n/a' THEN COALESCE(ca.gen, 'n/a')\n",
    "                                    ELSE ci.cst_gndr \n",
    "                                  END AS gender,\n",
    "                                  ca.bdate AS birthdate,\n",
    "                                  ci.cst_create_date AS create_date,\n",
    "                                  CURRENT_TIMESTAMP() AS dwh_load_date\n",
    "                                  FROM silver_crm_cust_info ci\n",
    "                                  LEFT JOIN silver_erp_cust_info ca\n",
    "                                    ON ci.cst_key = ca.cid\n",
    "                                  LEFT JOIN silver_erp_cust_loc la\n",
    "                                  ON ci.cst_key = la.cid\n",
    "                                  \"\"\"\n",
    "                            )\n",
    "        \n",
    "        # gold_customer.show()\n",
    "\n",
    "        gold_customer.write.format(\"iceberg\") \\\n",
    "            .mode(\"overwrite\") \\\n",
    "            .insertInto(f\"spark_catalog.gold.dim_customers\")\n",
    "        \n",
    "        logger.info(\"Data written to silver layer table crm_cust_info\")\n",
    "\n",
    "\n",
    "    except Exception as e:\n",
    "        logger.error(f\"Error in load_gold_customers: {e}\")\n",
    "    finally:\n",
    "        flush_logs_to_minio(f\"gold_logs/gold_customer.log\")"
   ]
  },
  {
   "cell_type": "code",
   "execution_count": null,
   "metadata": {},
   "outputs": [],
   "source": [
    "load_gold_customers()"
   ]
  },
  {
   "cell_type": "code",
   "execution_count": 23,
   "metadata": {},
   "outputs": [],
   "source": [
    "def load_gold_products():\n",
    "    \n",
    "    try:\n",
    "        crm_prd_info_df = spark.table(\"spark_catalog.silver.crm_prd_info\").filter(\"prd_end_dt is null\")\n",
    "        crm_prd_info_df.createOrReplaceTempView(\"silver_crm_prd_info\")\n",
    "\n",
    "        erp_px_cat_g1v2_df = spark.table(\"spark_catalog.silver.erp_px_cat_g1v2\")\n",
    "        erp_px_cat_g1v2_df.createOrReplaceTempView(\"silver_erp_px_cat_g1v2\")\n",
    "\n",
    "        gold_products = spark.sql(\"\"\"\n",
    "                                    SELECT \n",
    "                                    ROW_NUMBER() OVER (ORDER BY pn.prd_start_dt, pn.prd_key) AS product_key,\n",
    "                                  pn.prd_id AS product_id,\n",
    "                                  pn.prd_key AS product_number,\n",
    "                                  pn.prd_nm AS product_name,\n",
    "                                  pn.cat_id AS category_id,\n",
    "                                  pc.cat AS category,\n",
    "                                  pc.subcat AS subcategory,\n",
    "                                  pc.maintenance,\n",
    "                                  pn.prd_cost AS cost,\n",
    "                                  pn.prd_line AS product_line,\n",
    "                                  pn.prd_start_dt AS start_date,\n",
    "                                  CURRENT_TIMESTAMP() AS dwh_load_date\n",
    "                                  FROM silver_crm_prd_info pn\n",
    "                                  LEFT JOIN silver_erp_px_cat_g1v2 pc\n",
    "                                    ON pn.cat_id = pc.id\n",
    "                                  WHERE pn.prd_end_dt IS NULL                                 \n",
    "                                  \"\"\"\n",
    "                            )\n",
    "        \n",
    "        # gold_products.show()\n",
    "\n",
    "\n",
    "        gold_products.write.format(\"iceberg\") \\\n",
    "            .mode(\"overwrite\") \\\n",
    "            .insertInto(f\"spark_catalog.gold.dim_products\")\n",
    "        \n",
    "        logger.info(\"Data written to gold layer table products\")\n",
    "\n",
    "\n",
    "    except Exception as e:\n",
    "        logger.error(f\"Error in load_gold_customers: {e}\")\n",
    "    finally:\n",
    "        flush_logs_to_minio(f\"gold_logs/gold_products.log\")"
   ]
  },
  {
   "cell_type": "code",
   "execution_count": 24,
   "metadata": {},
   "outputs": [
    {
     "name": "stdout",
     "output_type": "stream",
     "text": [
      "25/07/07 03:50:46 WARN WindowExec: No Partition Defined for Window operation! Moving all data to a single partition, this can cause serious performance degradation.\n",
      "25/07/07 03:50:46 WARN WindowExec: No Partition Defined for Window operation! Moving all data to a single partition, this can cause serious performance degradation.\n",
      "25/07/07 03:50:46 WARN WindowExec: No Partition Defined for Window operation! Moving all data to a single partition, this can cause serious performance degradation.\n",
      "25/07/07 03:50:46 WARN WindowExec: No Partition Defined for Window operation! Moving all data to a single partition, this can cause serious performance degradation.\n",
      "25/07/07 03:50:46 WARN WindowExec: No Partition Defined for Window operation! Moving all data to a single partition, this can cause serious performance degradation.\n"
     ]
    },
    {
     "name": "stderr",
     "output_type": "stream",
     "text": [
      "Data written to gold layer table products\n",
      "Uploaded log to MinIO at logs/gold_logs/gold_products.log\n"
     ]
    }
   ],
   "source": [
    "load_gold_products()"
   ]
  }
 ],
 "metadata": {
  "kernelspec": {
   "display_name": "Python 3 (ipykernel)",
   "language": "python",
   "name": "python3"
  },
  "language_info": {
   "codemirror_mode": {
    "name": "ipython",
    "version": 3
   },
   "file_extension": ".py",
   "mimetype": "text/x-python",
   "name": "python",
   "nbconvert_exporter": "python",
   "pygments_lexer": "ipython3",
   "version": "3.8.13"
  }
 },
 "nbformat": 4,
 "nbformat_minor": 2
}
